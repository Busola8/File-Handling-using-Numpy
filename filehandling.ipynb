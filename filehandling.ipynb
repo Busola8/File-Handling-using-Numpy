{
 "cells": [
  {
   "cell_type": "code",
   "execution_count": 12,
   "id": "375c5c4d",
   "metadata": {},
   "outputs": [],
   "source": [
    "import numpy as np\n",
    "import pandas as pd"
   ]
  },
  {
   "cell_type": "code",
   "execution_count": 16,
   "id": "2cfe58db",
   "metadata": {},
   "outputs": [],
   "source": [
    "\n",
    "with open(\"Loan_prediction_dataset.csv\", \"r\") as file:\n",
    "    dataset = np.genfromtxt(file, delimiter = \",\")\n",
    "   "
   ]
  },
  {
   "cell_type": "code",
   "execution_count": 20,
   "id": "685e623d",
   "metadata": {},
   "outputs": [],
   "source": [
    "dataset = np.nan_to_num(dataset,nan = 0)"
   ]
  },
  {
   "cell_type": "code",
   "execution_count": 21,
   "id": "45fb7c84",
   "metadata": {},
   "outputs": [
    {
     "data": {
      "text/plain": [
       "array([[0., 0., 0., ..., 0., 0., 0.],\n",
       "       [0., 0., 0., ..., 1., 0., 0.],\n",
       "       [0., 0., 0., ..., 1., 0., 0.],\n",
       "       ...,\n",
       "       [0., 0., 0., ..., 1., 0., 0.],\n",
       "       [0., 0., 0., ..., 1., 0., 0.],\n",
       "       [0., 0., 0., ..., 0., 0., 0.]])"
      ]
     },
     "execution_count": 21,
     "metadata": {},
     "output_type": "execute_result"
    }
   ],
   "source": [
    "dataset"
   ]
  },
  {
   "cell_type": "code",
   "execution_count": 23,
   "id": "63e207bf",
   "metadata": {},
   "outputs": [
    {
     "data": {
      "text/plain": [
       "140.93658536585366"
      ]
     },
     "execution_count": 23,
     "metadata": {},
     "output_type": "execute_result"
    }
   ],
   "source": [
    "np.mean(dataset[:,8])"
   ]
  },
  {
   "cell_type": "code",
   "execution_count": 24,
   "id": "e6603bac",
   "metadata": {},
   "outputs": [
    {
     "data": {
      "text/plain": [
       "125.0"
      ]
     },
     "execution_count": 24,
     "metadata": {},
     "output_type": "execute_result"
    }
   ],
   "source": [
    "np.median(dataset[:,8])"
   ]
  },
  {
   "cell_type": "code",
   "execution_count": 25,
   "id": "7ae31683",
   "metadata": {},
   "outputs": [
    {
     "data": {
      "text/plain": [
       "88.38007838312286"
      ]
     },
     "execution_count": 25,
     "metadata": {},
     "output_type": "execute_result"
    }
   ],
   "source": [
    "np.std(dataset[:,8])"
   ]
  },
  {
   "cell_type": "code",
   "execution_count": 26,
   "id": "b09a60fe",
   "metadata": {},
   "outputs": [
    {
     "data": {
      "text/plain": [
       "125.0"
      ]
     },
     "execution_count": 26,
     "metadata": {},
     "output_type": "execute_result"
    }
   ],
   "source": [
    "np.median(dataset[:,8])"
   ]
  },
  {
   "cell_type": "code",
   "execution_count": null,
   "id": "2c607f56",
   "metadata": {},
   "outputs": [],
   "source": []
  }
 ],
 "metadata": {
  "kernelspec": {
   "display_name": "Python 3 (ipykernel)",
   "language": "python",
   "name": "python3"
  },
  "language_info": {
   "codemirror_mode": {
    "name": "ipython",
    "version": 3
   },
   "file_extension": ".py",
   "mimetype": "text/x-python",
   "name": "python",
   "nbconvert_exporter": "python",
   "pygments_lexer": "ipython3",
   "version": "3.11.4"
  }
 },
 "nbformat": 4,
 "nbformat_minor": 5
}
